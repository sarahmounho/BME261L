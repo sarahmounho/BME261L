{
 "cells": [
  {
   "cell_type": "markdown",
   "metadata": {},
   "source": [
    "Machine-Learning Pipeline for BME261L"
   ]
  },
  {
   "cell_type": "code",
   "execution_count": 1,
   "metadata": {},
   "outputs": [],
   "source": [
    "#Imports\n",
    "import warnings \n",
    "warnings.simplefilter('ignore')\n",
    "import pandas as pd \n",
    "import numpy as np\n",
    "import sklearn as sk\n",
    "import matplotlib.pyplot as plt\n",
    "\n",
    "#models\n",
    "from sklearn.neighbors import KNeighborsClassifier\n",
    "from sklearn.naive_bayes import GaussianNB\n",
    "from sklearn.svm import SVC\n",
    "from sklearn.neural_network import MLPClassifier\n",
    "from sklearn.ensemble import RandomForestClassifier as RFC\n",
    "from sklearn.ensemble import AdaBoostClassifier as ABC\n",
    "#other \n",
    "from sklearn.pipeline import Pipeline\n",
    "from sklearn.preprocessing import MinMaxScaler\n",
    "from sklearn.model_selection import cross_val_predict\n",
    "from sklearn.model_selection import GridSearchCV\n",
    "from sklearn.metrics import classification_report\n",
    "from sklearn.model_selection import StratifiedKFold\n",
    "%matplotlib inline"
   ]
  },
  {
   "cell_type": "code",
   "execution_count": 2,
   "metadata": {},
   "outputs": [],
   "source": [
    "def downsample_data(data, labels):\n",
    "    downData = None\n",
    "    downLabels = None\n",
    "\n",
    "    kfold = StratifiedKFold(n_splits = 100)\n",
    "    for throwAway_index, subsample_index in kfold.split(data, labels):\n",
    "        downData = data.iloc[subsample_index]\n",
    "        downLabels = labels.iloc[subsample_index]\n",
    "        break\n",
    "\n",
    "    return downData, downLabels"
   ]
  },
  {
   "cell_type": "code",
   "execution_count": 3,
   "metadata": {},
   "outputs": [
    {
     "name": "stdout",
     "output_type": "stream",
     "text": [
      "HR: (3592, 2)\n",
      "Motion: (931576, 4)\n",
      "Labels: (633, 2)\n"
     ]
    },
    {
     "data": {
      "text/html": [
       "<div>\n",
       "<style scoped>\n",
       "    .dataframe tbody tr th:only-of-type {\n",
       "        vertical-align: middle;\n",
       "    }\n",
       "\n",
       "    .dataframe tbody tr th {\n",
       "        vertical-align: top;\n",
       "    }\n",
       "\n",
       "    .dataframe thead th {\n",
       "        text-align: right;\n",
       "    }\n",
       "</style>\n",
       "<table border=\"1\" class=\"dataframe\">\n",
       "  <thead>\n",
       "    <tr style=\"text-align: right;\">\n",
       "      <th></th>\n",
       "      <th>motion_x</th>\n",
       "      <th>motion_y</th>\n",
       "      <th>motion_z</th>\n",
       "      <th>time_30</th>\n",
       "      <th>heart_rate</th>\n",
       "      <th>label</th>\n",
       "    </tr>\n",
       "  </thead>\n",
       "  <tbody>\n",
       "    <tr>\n",
       "      <th>0</th>\n",
       "      <td>0.019989</td>\n",
       "      <td>-0.338638</td>\n",
       "      <td>-0.943909</td>\n",
       "      <td>42</td>\n",
       "      <td>75</td>\n",
       "      <td>0</td>\n",
       "    </tr>\n",
       "    <tr>\n",
       "      <th>1</th>\n",
       "      <td>0.019989</td>\n",
       "      <td>-0.338638</td>\n",
       "      <td>-0.943909</td>\n",
       "      <td>42</td>\n",
       "      <td>74</td>\n",
       "      <td>0</td>\n",
       "    </tr>\n",
       "    <tr>\n",
       "      <th>2</th>\n",
       "      <td>0.019989</td>\n",
       "      <td>-0.338638</td>\n",
       "      <td>-0.943909</td>\n",
       "      <td>42</td>\n",
       "      <td>69</td>\n",
       "      <td>0</td>\n",
       "    </tr>\n",
       "    <tr>\n",
       "      <th>3</th>\n",
       "      <td>0.019989</td>\n",
       "      <td>-0.338638</td>\n",
       "      <td>-0.943909</td>\n",
       "      <td>42</td>\n",
       "      <td>69</td>\n",
       "      <td>0</td>\n",
       "    </tr>\n",
       "    <tr>\n",
       "      <th>4</th>\n",
       "      <td>0.019989</td>\n",
       "      <td>-0.338638</td>\n",
       "      <td>-0.943909</td>\n",
       "      <td>42</td>\n",
       "      <td>69</td>\n",
       "      <td>0</td>\n",
       "    </tr>\n",
       "    <tr>\n",
       "      <th>5</th>\n",
       "      <td>0.019989</td>\n",
       "      <td>-0.338638</td>\n",
       "      <td>-0.943909</td>\n",
       "      <td>42</td>\n",
       "      <td>69</td>\n",
       "      <td>0</td>\n",
       "    </tr>\n",
       "    <tr>\n",
       "      <th>6</th>\n",
       "      <td>0.019989</td>\n",
       "      <td>-0.338638</td>\n",
       "      <td>-0.943909</td>\n",
       "      <td>42</td>\n",
       "      <td>69</td>\n",
       "      <td>0</td>\n",
       "    </tr>\n",
       "    <tr>\n",
       "      <th>7</th>\n",
       "      <td>0.021790</td>\n",
       "      <td>-0.336166</td>\n",
       "      <td>-0.936584</td>\n",
       "      <td>42</td>\n",
       "      <td>75</td>\n",
       "      <td>0</td>\n",
       "    </tr>\n",
       "    <tr>\n",
       "      <th>8</th>\n",
       "      <td>0.021790</td>\n",
       "      <td>-0.336166</td>\n",
       "      <td>-0.936584</td>\n",
       "      <td>42</td>\n",
       "      <td>74</td>\n",
       "      <td>0</td>\n",
       "    </tr>\n",
       "    <tr>\n",
       "      <th>9</th>\n",
       "      <td>0.021790</td>\n",
       "      <td>-0.336166</td>\n",
       "      <td>-0.936584</td>\n",
       "      <td>42</td>\n",
       "      <td>69</td>\n",
       "      <td>0</td>\n",
       "    </tr>\n",
       "  </tbody>\n",
       "</table>\n",
       "</div>"
      ],
      "text/plain": [
       "   motion_x  motion_y  motion_z  time_30  heart_rate  label\n",
       "0  0.019989 -0.338638 -0.943909       42          75      0\n",
       "1  0.019989 -0.338638 -0.943909       42          74      0\n",
       "2  0.019989 -0.338638 -0.943909       42          69      0\n",
       "3  0.019989 -0.338638 -0.943909       42          69      0\n",
       "4  0.019989 -0.338638 -0.943909       42          69      0\n",
       "5  0.019989 -0.338638 -0.943909       42          69      0\n",
       "6  0.019989 -0.338638 -0.943909       42          69      0\n",
       "7  0.021790 -0.336166 -0.936584       42          75      0\n",
       "8  0.021790 -0.336166 -0.936584       42          74      0\n",
       "9  0.021790 -0.336166 -0.936584       42          69      0"
      ]
     },
     "execution_count": 3,
     "metadata": {},
     "output_type": "execute_result"
    }
   ],
   "source": [
    "#Read in CSV\n",
    "#Names of files\n",
    "heart_rate_path = '1360686_heartrate.csv'\n",
    "motion_path = '1360686_acceleration.csv'\n",
    "label_path = '1360686_labeled_sleep.csv'\n",
    "#Read in as pandas dataframe\n",
    "heart_rate = pd.read_csv(heart_rate_path, names=['time','heart_rate', 'time_30'])\n",
    "motion = pd.read_csv(motion_path, names=['time','motion_x', 'motion_y', 'motion_z', 'time_30'])\n",
    "labels = pd.read_csv(label_path, names=['time', 'label', 'time_30'])\n",
    "#drop time \n",
    "heart_rate.drop('time', axis=1, inplace=True)\n",
    "motion.drop('time', axis=1, inplace=True)\n",
    "labels.drop('time', axis=1, inplace=True)\n",
    "#preview data\n",
    "print('HR:', heart_rate.shape)\n",
    "print('Motion:', motion.shape)\n",
    "print('Labels:', labels.shape)\n",
    "#print(heart_rate.head(10))\n",
    "#print(motion.head(10))\n",
    "#print(labels.head(10))\n",
    "\n",
    "#Merge data based on time_30. \n",
    "data = pd.merge(left=heart_rate, right=labels, on='time_30')\n",
    "data = pd.merge(left=motion, right=data, on='time_30')\n",
    "#data.to_csv('test_join.csv') #uncomment to write to csv\n",
    "data.head(10)\n"
   ]
  },
  {
   "cell_type": "code",
   "execution_count": 4,
   "metadata": {},
   "outputs": [
    {
     "name": "stdout",
     "output_type": "stream",
     "text": [
      "New shape of data: (53609, 4)\n"
     ]
    }
   ],
   "source": [
    "#seperate features from label\n",
    "data_X = data.iloc[:, 0:5]\n",
    "data_Y = data.iloc[:, 5]\n",
    "#Need to downsample data to save computation time\n",
    "data_dsample, label_dsample = downsample_data(data_X, data_Y)\n",
    "#drop time_30 since this is not a measured feature\n",
    "data_dsample.drop('time_30', axis=1, inplace=True)\n",
    "\n",
    "#downsample to 54,609 data points\n",
    "print('New shape of data:', data_dsample.shape)"
   ]
  },
  {
   "cell_type": "code",
   "execution_count": 5,
   "metadata": {},
   "outputs": [
    {
     "name": "stdout",
     "output_type": "stream",
     "text": [
      "              precision    recall  f1-score   support\n",
      "\n",
      "           0       1.00      1.00      1.00      6487\n",
      "           1       1.00      1.00      1.00      1439\n",
      "           2       1.00      1.00      1.00     22652\n",
      "           3       1.00      1.00      1.00     14053\n",
      "           5       1.00      1.00      1.00      8978\n",
      "\n",
      "    accuracy                           1.00     53609\n",
      "   macro avg       1.00      1.00      1.00     53609\n",
      "weighted avg       1.00      1.00      1.00     53609\n",
      "\n"
     ]
    }
   ],
   "source": [
    "#KNN\n",
    "\n",
    "#create a scaler\n",
    "scaler = MinMaxScaler()\n",
    "\n",
    "#create a KNN classifier\n",
    "knn = KNeighborsClassifier()\n",
    "#create a pipeline that does scaling, then KNN (prevent data leakage)\n",
    "pipe = Pipeline(steps=[('scaler', scaler), ('knn', knn)])\n",
    "#Set up parameters to fine tune\n",
    "#check nearest neighbors 1-30\n",
    "param_grid = {\n",
    "    'knn__n_neighbors': list(range(1, 30))\n",
    "}\n",
    "#Pass the pipeline and the parameters into a GridSearchCV with a 5-fold CV\n",
    "clf = GridSearchCV(pipe, param_grid, cv=5)\n",
    "Y_pred = cross_val_predict(clf, data_dsample, label_dsample, cv=5)\n",
    "#Report\n",
    "report = classification_report(label_dsample, Y_pred)\n",
    "print(report)"
   ]
  },
  {
   "cell_type": "code",
   "execution_count": 6,
   "metadata": {},
   "outputs": [
    {
     "name": "stdout",
     "output_type": "stream",
     "text": [
      "              precision    recall  f1-score   support\n",
      "\n",
      "           0       0.99      1.00      1.00      6487\n",
      "           1       1.00      0.99      1.00      1439\n",
      "           2       1.00      1.00      1.00     22652\n",
      "           3       1.00      1.00      1.00     14053\n",
      "           5       1.00      1.00      1.00      8978\n",
      "\n",
      "    accuracy                           1.00     53609\n",
      "   macro avg       1.00      1.00      1.00     53609\n",
      "weighted avg       1.00      1.00      1.00     53609\n",
      "\n"
     ]
    }
   ],
   "source": [
    "#Naive Bayes\n",
    "#create a NB classifier\n",
    "clf = GaussianNB()\n",
    "#fit with a 10-fold CV\n",
    "Y_pred = cross_val_predict(clf, data_dsample, label_dsample, cv=10)\n",
    "#Report\n",
    "report = classification_report(label_dsample, Y_pred)\n",
    "print(report)"
   ]
  },
  {
   "cell_type": "code",
   "execution_count": 7,
   "metadata": {},
   "outputs": [
    {
     "name": "stdout",
     "output_type": "stream",
     "text": [
      "              precision    recall  f1-score   support\n",
      "\n",
      "           0       1.00      0.96      0.98      6487\n",
      "           1       0.83      1.00      0.91      1439\n",
      "           2       1.00      1.00      1.00     22652\n",
      "           3       1.00      1.00      1.00     14053\n",
      "           5       1.00      1.00      1.00      8978\n",
      "\n",
      "    accuracy                           0.99     53609\n",
      "   macro avg       0.97      0.99      0.98     53609\n",
      "weighted avg       1.00      0.99      0.99     53609\n",
      "\n"
     ]
    }
   ],
   "source": [
    "#SVM\n",
    "#create a scalar\n",
    "scalar = MinMaxScaler()\n",
    "#create a SVM classifier\n",
    "svm = SVC()\n",
    "#create a pipeline that does scaling, then SVM\n",
    "pipe = Pipeline(steps=[('scaler', scaler), ('svm', svm)])\n",
    "#Set up parameters to fine tune\n",
    "#tune for best kernel\n",
    "param_grid = {\n",
    "    'svm__kernel':['linear', 'rbf', 'poly', 'sigmoid']\n",
    "    }\n",
    "#grid search and CV\n",
    "clf = GridSearchCV(pipe, param_grid, cv=5)\n",
    "Y_pred = cross_val_predict(clf, data_dsample, label_dsample, cv=5)\n",
    "#Report\n",
    "report = classification_report(label_dsample, Y_pred)\n",
    "print(report)"
   ]
  },
  {
   "cell_type": "code",
   "execution_count": 8,
   "metadata": {},
   "outputs": [
    {
     "name": "stdout",
     "output_type": "stream",
     "text": [
      "              precision    recall  f1-score   support\n",
      "\n",
      "           0       1.00      0.99      1.00      6487\n",
      "           1       0.97      1.00      0.98      1439\n",
      "           2       1.00      1.00      1.00     22652\n",
      "           3       1.00      1.00      1.00     14053\n",
      "           5       1.00      1.00      1.00      8978\n",
      "\n",
      "    accuracy                           1.00     53609\n",
      "   macro avg       0.99      1.00      1.00     53609\n",
      "weighted avg       1.00      1.00      1.00     53609\n",
      "\n"
     ]
    }
   ],
   "source": [
    "#Neural Net\n",
    "#create a scalar\n",
    "scalar = MinMaxScaler()\n",
    "#create a Nueral Net classifier\n",
    "mlp = MLPClassifier()\n",
    "#create a pipeline that does scaling, then SVM\n",
    "pipe = Pipeline(steps=[('scaler', scaler), ('mlp', mlp)])\n",
    "#Set up parameters to fine tune\n",
    "#tune for best hidden layer size and activation\n",
    "param_grid = {\n",
    "    'mlp__hidden_layer_sizes': [(10,), (20,), (30,),\n",
    "                                (40,), (50,), (60,)],\n",
    "    'mlp__activation': ['logistic', 'tanh', 'relu']\n",
    "    }\n",
    "#grid search and CV\n",
    "clf = GridSearchCV(pipe, param_grid, cv=5)\n",
    "Y_pred = cross_val_predict(clf, data_dsample, label_dsample, cv=5)\n",
    "#Report\n",
    "report = classification_report(label_dsample, Y_pred)\n",
    "print(report)\n",
    "\n"
   ]
  },
  {
   "cell_type": "code",
   "execution_count": 9,
   "metadata": {},
   "outputs": [
    {
     "name": "stdout",
     "output_type": "stream",
     "text": [
      "              precision    recall  f1-score   support\n",
      "\n",
      "           0       1.00      1.00      1.00      6487\n",
      "           1       0.99      1.00      1.00      1439\n",
      "           2       1.00      1.00      1.00     22652\n",
      "           3       1.00      1.00      1.00     14053\n",
      "           5       1.00      1.00      1.00      8978\n",
      "\n",
      "    accuracy                           1.00     53609\n",
      "   macro avg       1.00      1.00      1.00     53609\n",
      "weighted avg       1.00      1.00      1.00     53609\n",
      "\n"
     ]
    }
   ],
   "source": [
    "#Random Forest\n",
    "#create a random forest classifier\n",
    "rfc = RFC()\n",
    "#Set up parameters to fine tune\n",
    "#tune for best max depth, min samples per leaf and max features\n",
    "max_depth_lst = list(range(35,56))\n",
    "param_grid = {'max_depth': max_depth_lst,\n",
    "              'min_samples_leaf': [8, 10, 12],\n",
    "              'max_features': ['sqrt', 'log2']}\n",
    "#grid search and CV\n",
    "clf = GridSearchCV(rfc, param_grid, cv=5)\n",
    "Y_pred = cross_val_predict(clf, data_dsample, label_dsample, cv=5)\n",
    "#Report\n",
    "report = classification_report(label_dsample, Y_pred)\n",
    "print(report)\n"
   ]
  },
  {
   "cell_type": "code",
   "execution_count": 10,
   "metadata": {},
   "outputs": [
    {
     "name": "stdout",
     "output_type": "stream",
     "text": [
      "              precision    recall  f1-score   support\n",
      "\n",
      "           0       1.00      0.76      0.87      6487\n",
      "           1       0.00      0.00      0.00      1439\n",
      "           2       1.00      1.00      1.00     22652\n",
      "           3       0.83      1.00      0.90     14053\n",
      "           5       1.00      1.00      1.00      8978\n",
      "\n",
      "    accuracy                           0.94     53609\n",
      "   macro avg       0.76      0.75      0.75     53609\n",
      "weighted avg       0.93      0.94      0.93     53609\n",
      "\n"
     ]
    }
   ],
   "source": [
    "#AdaBoostClassifier\n",
    "#create an AdaBoostClassifier\n",
    "abc = ABC()\n",
    "#params\n",
    "est_lst = list(range(50,251, 25))\n",
    "param_grid = {'n_estimators': est_lst}\n",
    "#grid search \n",
    "clf = GridSearchCV(abc, param_grid, cv=5)\n",
    "#cross validation\n",
    "Y_pred = cross_val_predict(clf, data_dsample, label_dsample, cv=5)\n",
    "#Report\n",
    "report = classification_report(label_dsample, Y_pred)\n",
    "print(report)\n"
   ]
  },
  {
   "cell_type": "code",
   "execution_count": null,
   "metadata": {},
   "outputs": [],
   "source": []
  }
 ],
 "metadata": {
  "kernelspec": {
   "display_name": "Python 3",
   "language": "python",
   "name": "python3"
  },
  "language_info": {
   "codemirror_mode": {
    "name": "ipython",
    "version": 3
   },
   "file_extension": ".py",
   "mimetype": "text/x-python",
   "name": "python",
   "nbconvert_exporter": "python",
   "pygments_lexer": "ipython3",
   "version": "3.7.7"
  }
 },
 "nbformat": 4,
 "nbformat_minor": 2
}

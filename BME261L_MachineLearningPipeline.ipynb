{
 "cells": [
  {
   "cell_type": "markdown",
   "metadata": {},
   "source": [
    "Machine-Learning Pipeline for BME261L"
   ]
  },
  {
   "cell_type": "code",
   "execution_count": 1,
   "metadata": {},
   "outputs": [],
   "source": [
    "#Imports\n",
    "import warnings \n",
    "warnings.simplefilter('ignore')\n",
    "import pandas as pd \n",
    "import numpy as np\n",
    "import sklearn as sk\n",
    "import matplotlib.pyplot as plt\n",
    "\n",
    "#models\n",
    "from sklearn.neighbors import KNeighborsClassifier\n",
    "from sklearn.naive_bayes import GaussianNB\n",
    "from sklearn.svm import SVC\n",
    "from sklearn.neural_network import MLPClassifier\n",
    "from sklearn.ensemble import RandomForestClassifier as RFC\n",
    "from sklearn.ensemble import AdaBoostClassifier as ABC\n",
    "from sklearn.decomposition import PCA\n",
    "\n",
    "#other \n",
    "from sklearn.pipeline import Pipeline\n",
    "from sklearn.preprocessing import StandardScaler\n",
    "from sklearn.model_selection import cross_val_predict\n",
    "from sklearn.model_selection import GridSearchCV\n",
    "from sklearn.metrics import classification_report\n",
    "from sklearn.model_selection import StratifiedKFold\n",
    "from sklearn.metrics import accuracy_score, classification_report, confusion_matrix, f1_score\n",
    "#initiate confusion matrix holder\n",
    "confusion_matrices = {}\n",
    "%matplotlib inline"
   ]
  },
  {
   "cell_type": "code",
   "execution_count": 2,
   "metadata": {},
   "outputs": [],
   "source": [
    "# report = the return value from sklearn.classification_report()\n",
    "def report_plot(report, graph_title, bar_width = .3):\n",
    "    lines = report.split('\\n')\n",
    "    classes = []\n",
    "    data = []\n",
    "    support = []\n",
    "    class_names = []\n",
    "    for line in lines[2 : (len(lines) - 4)]:\n",
    "        t = line.strip().split()\n",
    "        if len(t) < 2: continue\n",
    "        classes.append(t[0])\n",
    "        v = [float(x) for x in t[1: len(t) - 1]]\n",
    "        support.append(int(t[-1]))\n",
    "        class_names.append(t[0])\n",
    "        data.append(v)\n",
    "    prec = [data[0][0]] + [data[1][0]] + [data[2][0]]\n",
    "    recall = [data[0][1]] + [data[1][1]] + [data[2][1]]\n",
    "    fscore = [data[0][2]] + [data[1][2]] + [data[2][2]]\n",
    "    \n",
    "    pos1 = [a * (bar_width*4) for a in range(3)]\n",
    "    pos2 = [a + bar_width for a in pos1]\n",
    "    pos3 = [a + bar_width for a in pos2]\n",
    "    plt.bar(pos1, prec, width = bar_width, label=\"precision\")\n",
    "    plt.bar(pos2, recall, width = bar_width, label=\"recall\")\n",
    "    plt.bar(pos3, fscore, width = bar_width, label=\"f-score\")\n",
    "    graph_title = 'Metrics for ' + graph_title\n",
    "    plt.title(graph_title)\n",
    "    plt.xlabel(\"class\")\n",
    "    plt.xticks([a + bar_width + (a * .5 * bar_width) for a in range(3)],\n",
    "               [\"Awake\",\"Light Sleep\", \"Deep Sleep\"])\n",
    "    plt.legend()"
   ]
  },
  {
   "cell_type": "code",
   "execution_count": 3,
   "metadata": {},
   "outputs": [],
   "source": [
    "def generate_final_report(classifier_runner, graph_title=\"\"):\n",
    "    pred_y = classifier_runner(data_X, data_Y)\n",
    "    report_plot(classification_report(data_Y, pred_y), graph_title)\n",
    "    confusion_matrices[graph_title] = (data_Y, pred_y)"
   ]
  },
  {
   "cell_type": "code",
   "execution_count": 4,
   "metadata": {},
   "outputs": [
    {
     "name": "stdout",
     "output_type": "stream",
     "text": [
      "HR: (3592, 2)\n",
      "Motion: (931576, 4)\n",
      "Labels: (633, 2)\n",
      "1    289\n",
      "5    268\n",
      "0     76\n",
      "Name: label, dtype: int64\n"
     ]
    },
    {
     "data": {
      "text/html": [
       "<div>\n",
       "<style scoped>\n",
       "    .dataframe tbody tr th:only-of-type {\n",
       "        vertical-align: middle;\n",
       "    }\n",
       "\n",
       "    .dataframe tbody tr th {\n",
       "        vertical-align: top;\n",
       "    }\n",
       "\n",
       "    .dataframe thead th {\n",
       "        text-align: right;\n",
       "    }\n",
       "</style>\n",
       "<table border=\"1\" class=\"dataframe\">\n",
       "  <thead>\n",
       "    <tr style=\"text-align: right;\">\n",
       "      <th></th>\n",
       "      <th>motion_x</th>\n",
       "      <th>motion_y</th>\n",
       "      <th>motion_z</th>\n",
       "      <th>time_30</th>\n",
       "      <th>heart_rate</th>\n",
       "      <th>label</th>\n",
       "    </tr>\n",
       "  </thead>\n",
       "  <tbody>\n",
       "    <tr>\n",
       "      <th>0</th>\n",
       "      <td>0.019989</td>\n",
       "      <td>-0.338638</td>\n",
       "      <td>-0.943909</td>\n",
       "      <td>42</td>\n",
       "      <td>75</td>\n",
       "      <td>0</td>\n",
       "    </tr>\n",
       "    <tr>\n",
       "      <th>1</th>\n",
       "      <td>-0.022018</td>\n",
       "      <td>-0.062485</td>\n",
       "      <td>-1.000153</td>\n",
       "      <td>43</td>\n",
       "      <td>69</td>\n",
       "      <td>0</td>\n",
       "    </tr>\n",
       "    <tr>\n",
       "      <th>2</th>\n",
       "      <td>-0.039764</td>\n",
       "      <td>0.009735</td>\n",
       "      <td>-1.001114</td>\n",
       "      <td>44</td>\n",
       "      <td>68</td>\n",
       "      <td>0</td>\n",
       "    </tr>\n",
       "    <tr>\n",
       "      <th>3</th>\n",
       "      <td>-0.038300</td>\n",
       "      <td>0.006317</td>\n",
       "      <td>-1.000595</td>\n",
       "      <td>45</td>\n",
       "      <td>63</td>\n",
       "      <td>0</td>\n",
       "    </tr>\n",
       "    <tr>\n",
       "      <th>4</th>\n",
       "      <td>-0.053772</td>\n",
       "      <td>0.097122</td>\n",
       "      <td>-0.995712</td>\n",
       "      <td>46</td>\n",
       "      <td>73</td>\n",
       "      <td>0</td>\n",
       "    </tr>\n",
       "    <tr>\n",
       "      <th>5</th>\n",
       "      <td>-0.050827</td>\n",
       "      <td>0.094681</td>\n",
       "      <td>-0.996140</td>\n",
       "      <td>47</td>\n",
       "      <td>62</td>\n",
       "      <td>0</td>\n",
       "    </tr>\n",
       "    <tr>\n",
       "      <th>6</th>\n",
       "      <td>-0.053772</td>\n",
       "      <td>0.094192</td>\n",
       "      <td>-0.995224</td>\n",
       "      <td>48</td>\n",
       "      <td>63</td>\n",
       "      <td>0</td>\n",
       "    </tr>\n",
       "    <tr>\n",
       "      <th>7</th>\n",
       "      <td>-0.049347</td>\n",
       "      <td>0.093216</td>\n",
       "      <td>-0.996597</td>\n",
       "      <td>49</td>\n",
       "      <td>66</td>\n",
       "      <td>0</td>\n",
       "    </tr>\n",
       "    <tr>\n",
       "      <th>8</th>\n",
       "      <td>-0.021133</td>\n",
       "      <td>-0.020493</td>\n",
       "      <td>-1.000687</td>\n",
       "      <td>50</td>\n",
       "      <td>62</td>\n",
       "      <td>0</td>\n",
       "    </tr>\n",
       "    <tr>\n",
       "      <th>9</th>\n",
       "      <td>-0.016220</td>\n",
       "      <td>-0.038544</td>\n",
       "      <td>-1.000076</td>\n",
       "      <td>51</td>\n",
       "      <td>66</td>\n",
       "      <td>0</td>\n",
       "    </tr>\n",
       "  </tbody>\n",
       "</table>\n",
       "</div>"
      ],
      "text/plain": [
       "   motion_x  motion_y  motion_z  time_30  heart_rate  label\n",
       "0  0.019989 -0.338638 -0.943909       42          75      0\n",
       "1 -0.022018 -0.062485 -1.000153       43          69      0\n",
       "2 -0.039764  0.009735 -1.001114       44          68      0\n",
       "3 -0.038300  0.006317 -1.000595       45          63      0\n",
       "4 -0.053772  0.097122 -0.995712       46          73      0\n",
       "5 -0.050827  0.094681 -0.996140       47          62      0\n",
       "6 -0.053772  0.094192 -0.995224       48          63      0\n",
       "7 -0.049347  0.093216 -0.996597       49          66      0\n",
       "8 -0.021133 -0.020493 -1.000687       50          62      0\n",
       "9 -0.016220 -0.038544 -1.000076       51          66      0"
      ]
     },
     "execution_count": 4,
     "metadata": {},
     "output_type": "execute_result"
    }
   ],
   "source": [
    "#Read in CSV\n",
    "#Names of files\n",
    "heart_rate_path = '1360686_heartrate.csv'\n",
    "motion_path = '1360686_acceleration.csv'\n",
    "label_path = '1360686_labeled_sleep.csv'\n",
    "#Read in as pandas dataframe\n",
    "heart_rate = pd.read_csv(heart_rate_path, names=['time','heart_rate', 'time_30'])\n",
    "motion = pd.read_csv(motion_path, names=['time','motion_x', 'motion_y', 'motion_z', 'time_30'])\n",
    "labels = pd.read_csv(label_path, names=['time', 'label', 'time_30'])\n",
    "#drop time \n",
    "heart_rate.drop('time', axis=1, inplace=True)\n",
    "motion.drop('time', axis=1, inplace=True)\n",
    "labels.drop('time', axis=1, inplace=True)\n",
    "#preview data\n",
    "print('HR:', heart_rate.shape)\n",
    "print('Motion:', motion.shape)\n",
    "print('Labels:', labels.shape)\n",
    "#print(heart_rate.head(10))\n",
    "#print(motion.head(10))\n",
    "#print(labels.head(10))\n",
    "#drop extra data from HR and Motion. This will reduce the \n",
    "#risk of over-fitting\n",
    "heart_rate.drop_duplicates(subset='time_30', inplace=True)\n",
    "motion.drop_duplicates(subset='time_30', inplace=True)\n",
    "#Combine labels 1 and 2 for 'light sleep' as 1\n",
    "#Combine labels 3 and 5 for 'deep sleep' as 5\n",
    "labels.replace(2, 1, inplace=True)\n",
    "labels.replace(3,5, inplace=True)\n",
    "print(labels['label'].value_counts())\n",
    "#Merge data based on time_30. \n",
    "data = pd.merge(left=heart_rate, right=labels, on='time_30')\n",
    "data = pd.merge(left=motion, right=data, on='time_30')\n",
    "#data.to_csv('test_join.csv') #uncomment to write to csv\n",
    "data.head(10)\n"
   ]
  },
  {
   "cell_type": "code",
   "execution_count": 5,
   "metadata": {},
   "outputs": [
    {
     "name": "stdout",
     "output_type": "stream",
     "text": [
      "New shape of data: (624, 4)\n"
     ]
    }
   ],
   "source": [
    "#seperate features from label\n",
    "data_X = data.iloc[:, 0:5]\n",
    "data_Y = data.iloc[:, 5]\n",
    "\n",
    "#drop time_30 since this is not a measured feature\n",
    "data_X.drop('time_30', axis=1, inplace=True)\n",
    "\n",
    "#downsample to 54,609 data points\n",
    "print('New shape of data:', data_X.shape)"
   ]
  },
  {
   "cell_type": "code",
   "execution_count": 6,
   "metadata": {},
   "outputs": [
    {
     "data": {
      "text/plain": [
       "''"
      ]
     },
     "execution_count": 6,
     "metadata": {},
     "output_type": "execute_result"
    }
   ],
   "source": [
    "#KNN\n",
    "def KNN_runner(data_x, data_y):\n",
    "    import warnings \n",
    "    warnings.simplefilter('ignore')\n",
    "    #Dimensionality reduction\n",
    "    pca = PCA()\n",
    "    #create a scaler\n",
    "    scaler = StandardScaler()\n",
    "\n",
    "    #create a KNN classifier\n",
    "    knn = KNeighborsClassifier()\n",
    "    #create a pipeline that does scaling, then KNN (prevent data leakage)\n",
    "    pipe = Pipeline(steps=[('scaler', scaler), ('pca', pca), ('knn', knn)])\n",
    "    #Set up parameters to fine tune\n",
    "    #check nearest neighbors 1-30\n",
    "    param_grid = {\n",
    "        'knn__n_neighbors': list(range(1, 30)),\n",
    "        'pca__n_components': list(range(1,5))\n",
    "    }\n",
    "    #Pass the pipeline and the parameters into a GridSearchCV with a 5-fold CV\n",
    "    clf = GridSearchCV(pipe, param_grid, cv=5)\n",
    "    clf.fit(data_x, data_y)\n",
    "    print('Best parameters:\\n',\n",
    "          'n neighbors:', clf.best_params_['knn__n_neighbors'],'\\n'\n",
    "          'PCA n components:', clf.best_params_['pca__n_components'])\n",
    "    Y_pred = cross_val_predict(clf, data_X, data_Y, cv=5)\n",
    "    return Y_pred\n",
    ";"
   ]
  },
  {
   "cell_type": "code",
   "execution_count": 7,
   "metadata": {},
   "outputs": [
    {
     "name": "stdout",
     "output_type": "stream",
     "text": [
      "Best parameters:\n",
      " n neighbors: 12 \n",
      "PCA n components: 4\n"
     ]
    },
    {
     "data": {
      "image/png": "[encoded data removed]",
      "text/plain": [
       "<Figure size 432x288 with 1 Axes>"
      ]
     },
     "metadata": {
      "needs_background": "light"
     },
     "output_type": "display_data"
    }
   ],
   "source": [
    "generate_final_report(KNN_runner, 'K-Nearest Neighbors')"
   ]
  },
  {
   "cell_type": "code",
   "execution_count": 8,
   "metadata": {},
   "outputs": [],
   "source": [
    "#Naive Bayes\n",
    "def NB_runner(data_x, data_y):\n",
    "    #create a NB classifier\n",
    "    clf = GaussianNB()\n",
    "    #fit with a 10-fold CV\n",
    "    Y_pred = cross_val_predict(clf, data_X, data_Y, cv=10)\n",
    "    return Y_pred"
   ]
  },
  {
   "cell_type": "code",
   "execution_count": 9,
   "metadata": {},
   "outputs": [
    {
     "data": {
      "image/png": "[encoded data removed]",
      "text/plain": [
       "<Figure size 432x288 with 1 Axes>"
      ]
     },
     "metadata": {
      "needs_background": "light"
     },
     "output_type": "display_data"
    }
   ],
   "source": [
    "generate_final_report(NB_runner, 'Naive Bayes')"
   ]
  },
  {
   "cell_type": "code",
   "execution_count": 10,
   "metadata": {},
   "outputs": [
    {
     "data": {
      "text/plain": [
       "''"
      ]
     },
     "execution_count": 10,
     "metadata": {},
     "output_type": "execute_result"
    }
   ],
   "source": [
    "#SVM\n",
    "def svm_runner(data_x, data_y):\n",
    "    warnings.simplefilter('ignore')\n",
    "    #Dimensionality reduction\n",
    "    pca = PCA()\n",
    "    #create a scalar\n",
    "    scaler = StandardScaler()\n",
    "    #create a SVM classifier\n",
    "    svm = SVC()\n",
    "    #create a pipeline that does scaling, then SVM\n",
    "    pipe = Pipeline(steps=[('scaler', scaler), ('pca', pca), ('svm', svm)])\n",
    "    #Set up parameters to fine tune\n",
    "    #tune for best kernel\n",
    "    param_grid = {\n",
    "        'svm__kernel':['linear', 'rbf', 'poly', 'sigmoid'],\n",
    "        'pca__n_components' :list(range(1,5))\n",
    "        }\n",
    "    #grid search and CV\n",
    "    clf = GridSearchCV(pipe, param_grid, cv=5)\n",
    "    clf.fit(data_X, data_Y)\n",
    "    print('Best parameters:\\n',\n",
    "          'Kernel:', clf.best_params_['svm__kernel'], '\\n',\n",
    "          'PCA n components:', clf.best_params_['pca__n_components'])\n",
    "    Y_pred = cross_val_predict(clf, data_X, data_Y, cv=5)\n",
    "    return Y_pred\n",
    ";"
   ]
  },
  {
   "cell_type": "code",
   "execution_count": 11,
   "metadata": {},
   "outputs": [
    {
     "name": "stdout",
     "output_type": "stream",
     "text": [
      "Best parameters:\n",
      " Kernel: poly \n",
      " PCA n components: 3\n"
     ]
    },
    {
     "data": {
      "image/png": "[encoded data removed]",
      "text/plain": [
       "<Figure size 432x288 with 1 Axes>"
      ]
     },
     "metadata": {
      "needs_background": "light"
     },
     "output_type": "display_data"
    }
   ],
   "source": [
    "generate_final_report(svm_runner, 'Support Vector Machine')"
   ]
  },
  {
   "cell_type": "code",
   "execution_count": 12,
   "metadata": {},
   "outputs": [
    {
     "data": {
      "text/plain": [
       "''"
      ]
     },
     "execution_count": 12,
     "metadata": {},
     "output_type": "execute_result"
    }
   ],
   "source": [
    "#Neural Net\n",
    "def NN_runner(data_x, data_y):\n",
    "    #create a scalar\n",
    "    scaler = StandardScaler()\n",
    "    #dimensionality reduction\n",
    "    pca = PCA()\n",
    "    #create a Nueral Net classifier\n",
    "    mlp = MLPClassifier()\n",
    "    #create a pipeline that does scaling, then SVM\n",
    "    pipe = Pipeline(steps=[('scaler', scaler), ('pca', pca), ('mlp', mlp)])\n",
    "    #Set up parameters to fine tune\n",
    "    #tune for best hidden layer size and activation\n",
    "    param_grid = {\n",
    "        'mlp__hidden_layer_sizes': [(10,), (20,), (30,),\n",
    "                                    (40,), (50,), (60,)],\n",
    "        'mlp__activation': ['logistic', 'tanh', 'relu'],\n",
    "        'pca__n_components': range(1,5)\n",
    "        }\n",
    "    #grid search and CV\n",
    "    clf = GridSearchCV(pipe, param_grid, cv=5)\n",
    "    clf.fit(data_X, data_Y)\n",
    "    print('Best parameters:\\n',\n",
    "          'Hidden layer size:', clf.best_params_['mlp__hidden_layer_sizes'],'\\n',\n",
    "          'Activation function:', clf.best_params_['mlp__activation'], '\\n',\n",
    "          'PCA n components:', clf.best_params_['pca__n_components'])\n",
    "    Y_pred = cross_val_predict(clf, data_X, data_Y, cv=5)\n",
    "    return Y_pred\n",
    ";"
   ]
  },
  {
   "cell_type": "code",
   "execution_count": 13,
   "metadata": {},
   "outputs": [
    {
     "name": "stdout",
     "output_type": "stream",
     "text": [
      "Best parameters:\n",
      " Hidden layer size: (50,) \n",
      " Activation function: relu \n",
      " PCA n components: 1\n"
     ]
    },
    {
     "data": {
      "image/png": "[encoded data removed]",
      "text/plain": [
       "<Figure size 432x288 with 1 Axes>"
      ]
     },
     "metadata": {
      "needs_background": "light"
     },
     "output_type": "display_data"
    }
   ],
   "source": [
    "generate_final_report(NN_runner, 'Neural Network')"
   ]
  },
  {
   "cell_type": "code",
   "execution_count": 14,
   "metadata": {},
   "outputs": [
    {
     "data": {
      "text/plain": [
       "''"
      ]
     },
     "execution_count": 14,
     "metadata": {},
     "output_type": "execute_result"
    }
   ],
   "source": [
    "#Random Forest\n",
    "def RF_runner(data_x, data_y):\n",
    "    #create a random forest classifier\n",
    "    rfc = RFC()\n",
    "    #Set up parameters to fine tune\n",
    "    #tune for best max depth, min samples per leaf and max features\n",
    "    max_depth_lst = list(range(35,56))\n",
    "    param_grid = {'max_depth': max_depth_lst,\n",
    "                  'min_samples_leaf': [8, 10, 12],\n",
    "                  'max_features': ['sqrt', 'log2']}\n",
    "    #grid search and CV\n",
    "    clf = GridSearchCV(rfc, param_grid, cv=5)\n",
    "    clf.fit(data_X, data_Y)\n",
    "    print('Best parameters:\\n',\n",
    "          'Max depth:', clf.best_params_['max_depth'], '\\n',\n",
    "          'Min samples per leaf:', clf.best_params_['min_samples_leaf'], '\\n',\n",
    "          'Max features:', clf.best_params_['max_features'])\n",
    "    Y_pred = cross_val_predict(clf, data_X, data_Y, cv=5)\n",
    "    return Y_pred\n",
    ";"
   ]
  },
  {
   "cell_type": "code",
   "execution_count": 15,
   "metadata": {},
   "outputs": [
    {
     "name": "stdout",
     "output_type": "stream",
     "text": [
      "Best parameters:\n",
      " Max depth: 39 \n",
      " Min samples per leaf: 8 \n",
      " Max features: log2\n"
     ]
    },
    {
     "data": {
      "image/png": "[encoded data removed]",
      "text/plain": [
       "<Figure size 432x288 with 1 Axes>"
      ]
     },
     "metadata": {
      "needs_background": "light"
     },
     "output_type": "display_data"
    }
   ],
   "source": [
    "generate_final_report(RF_runner, 'Random Forest Classifier')"
   ]
  },
  {
   "cell_type": "code",
   "execution_count": 16,
   "metadata": {},
   "outputs": [
    {
     "data": {
      "text/plain": [
       "''"
      ]
     },
     "execution_count": 16,
     "metadata": {},
     "output_type": "execute_result"
    }
   ],
   "source": [
    "#AdaBoostClassifier\n",
    "def ABC_runner(data_x, data_y):\n",
    "    #create an AdaBoostClassifier\n",
    "    abc = ABC()\n",
    "    #params\n",
    "    est_lst = list(range(50,251, 25))\n",
    "    param_grid = {'n_estimators': est_lst}\n",
    "    #grid search \n",
    "    clf = GridSearchCV(abc, param_grid, cv=5)\n",
    "    clf.fit(data_X, data_Y)\n",
    "    print('Best parameters:\\n',\n",
    "          'n estimators:', clf.best_params_['n_estimators'])\n",
    "    #cross validation\n",
    "    Y_pred = cross_val_predict(clf, data_X, data_Y, cv=5)\n",
    "    return Y_pred\n",
    ";"
   ]
  },
  {
   "cell_type": "code",
   "execution_count": 17,
   "metadata": {},
   "outputs": [
    {
     "name": "stdout",
     "output_type": "stream",
     "text": [
      "Best parameters:\n",
      " n estimators: 150\n"
     ]
    },
    {
     "data": {
      "image/png": "[encoded data removed]",
      "text/plain": [
       "<Figure size 432x288 with 1 Axes>"
      ]
     },
     "metadata": {
      "needs_background": "light"
     },
     "output_type": "display_data"
    }
   ],
   "source": [
    "generate_final_report(ABC_runner, 'AdaBoost Classifier')"
   ]
  },
  {
   "cell_type": "code",
   "execution_count": 97,
   "metadata": {},
   "outputs": [
    {
     "data": {
      "text/plain": [
       "''"
      ]
     },
     "execution_count": 97,
     "metadata": {},
     "output_type": "execute_result"
    }
   ],
   "source": [
    "def final_graph(metric):\n",
    "    x_labels = confusion_matrices.keys()\n",
    "    y_label = \"\"\n",
    "    x = np.arange(len(x_labels))\n",
    "    fig, ax = plt.subplots(figsize=(15, 8))\n",
    "    width = 0.25\n",
    "    rectlists = []\n",
    "    if metric == \"f1\":\n",
    "        values = [f1_score(a[0], a[1], average=None) for a in confusion_matrices.values()]\n",
    "        values_awake = [row[0] for row in values]\n",
    "        values_light_sleep = [row[1] for row in values]\n",
    "        values_deep_sleep = [row[2] for row in values]\n",
    "        y_label = \"F-1 scores\" \n",
    "        r1 = np.arange(len(values_awake))\n",
    "        r2 = [x + 0.25 for x in r1]\n",
    "        r3 = [x + 0.25 for x in r2]\n",
    "        awake = ax.bar(r1, values_awake, width, label='Awake')\n",
    "        light_sleep = ax.bar(r2, values_light_sleep, width, label='Light sleep')\n",
    "        deep_sleep = ax.bar(r3, values_deep_sleep, width, label='Deep sleep')\n",
    "        rectlists = [awake, light_sleep, deep_sleep]\n",
    "        ax.legend()\n",
    "    elif metric=='accuracy':\n",
    "        y_label = \"Accuracy\"\n",
    "        values = [accuracy_score(a[0],a[1]) for a in confusion_matrices.values()]\n",
    "        values = [a*100 for a in values]\n",
    "        accuracies = ax.bar(x, values, width, label=None)\n",
    "        rectlists = [accuracies]\n",
    "    \n",
    "    ax.set_ylabel(y_label)\n",
    "    ax.set_title(\"Model Metrics\")\n",
    "    ax.set_xticks(x)\n",
    "    ax.set_xticklabels(x_labels)\n",
    "    \n",
    "\n",
    "    def autolabel(rects):\n",
    "        for rect in rects:\n",
    "            height = rect.get_height()\n",
    "            ax.annotate('{:.2f}'.format(height),\n",
    "                xy=(rect.get_x() + rect.get_width() / 2, height),\n",
    "                xytext=(0, 3),\n",
    "                textcoords=\"offset points\",\n",
    "                ha='center', va='bottom')\n",
    "\n",
    "    for l in rectlists:\n",
    "        autolabel(l)\n",
    "\n",
    "    fig.tight_layout()\n",
    ";"
   ]
  },
  {
   "cell_type": "code",
   "execution_count": 98,
   "metadata": {},
   "outputs": [
    {
     "data": {
      "image/png": "[encoded data removed]",
      "text/plain": [
       "<Figure size 1080x576 with 1 Axes>"
      ]
     },
     "metadata": {
      "needs_background": "light"
     },
     "output_type": "display_data"
    }
   ],
   "source": [
    "final_graph('f1')"
   ]
  },
  {
   "cell_type": "code",
   "execution_count": 99,
   "metadata": {},
   "outputs": [
    {
     "data": {
      "image/png": "[encoded data removed]",
      "text/plain": [
       "<Figure size 1080x576 with 1 Axes>"
      ]
     },
     "metadata": {
      "needs_background": "light"
     },
     "output_type": "display_data"
    }
   ],
   "source": [
    "final_graph('accuracy')"
   ]
  },
  {
   "cell_type": "code",
   "execution_count": null,
   "metadata": {},
   "outputs": [],
   "source": []
  }
 ],
 "metadata": {
  "kernelspec": {
   "display_name": "Python 3",
   "language": "python",
   "name": "python3"
  },
  "language_info": {
   "codemirror_mode": {
    "name": "ipython",
    "version": 3
   },
   "file_extension": ".py",
   "mimetype": "text/x-python",
   "name": "python",
   "nbconvert_exporter": "python",
   "pygments_lexer": "ipython3",
   "version": "3.7.3"
  }
 },
 "nbformat": 4,
 "nbformat_minor": 2
}

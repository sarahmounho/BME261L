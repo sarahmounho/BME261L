{
 "cells": [
  {
   "cell_type": "markdown",
   "metadata": {},
   "source": [
    "## Test: Data from Python to Firebase"
   ]
  },
  {
   "cell_type": "code",
   "execution_count": null,
   "metadata": {},
   "outputs": [],
   "source": [
    "#Library imports\n",
    "#import serial #needed to communicate with Arduino\n",
    "import time\n",
    "import requests\n",
    "import json\n",
    "\n",
    "#Set-up\n",
    "firebase_url = 'https://bme-261l-sleep-sensor.firebaseio.com/'\n",
    "\n",
    "#Setup a loop to send values at fixed intervals (in seconds)\n",
    "fixed_interval = 10\n",
    "#only testing with time/date info\n",
    "counter = 0 \n",
    "while (counter < 25):\n",
    "    \n",
    "    try: \n",
    "        counter += 1\n",
    "        #current time and data\n",
    "        time_hhmmss = time.strftime('%H:%M:%S')\n",
    "        date_mmddyyyy = time.strftime('%d/%m/%Y')\n",
    "        \n",
    "        #insert record\n",
    "        data = {'date':date_mmddyyyy, 'time':time_hhmmss}\n",
    "        result = requests.post(firebase_url +\n",
    "                               '/' + 'date.json', data = json.dumps(data))\n",
    "        print('Record inserted. Result Code = ' + str(result.status_code) + ',' +\n",
    "             result.text)\n",
    "        time.sleep(fixed_interval)\n",
    "    except IOError:\n",
    "        print('Error! :(')\n",
    "    time.sleep(fixed_interval)\n",
    "    \n"
   ]
  },
  {
   "cell_type": "code",
   "execution_count": null,
   "metadata": {},
   "outputs": [],
   "source": [
    "\n"
   ]
  }
 ],
 "metadata": {
  "kernelspec": {
   "display_name": "Python 3",
   "language": "python",
   "name": "python3"
  },
  "language_info": {
   "codemirror_mode": {
    "name": "ipython",
    "version": 3
   },
   "file_extension": ".py",
   "mimetype": "text/x-python",
   "name": "python",
   "nbconvert_exporter": "python",
   "pygments_lexer": "ipython3",
   "version": "3.7.3"
  }
 },
 "nbformat": 4,
 "nbformat_minor": 2
}
